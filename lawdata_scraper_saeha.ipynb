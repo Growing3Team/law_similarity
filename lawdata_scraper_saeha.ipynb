{
 "cells": [
  {
   "cell_type": "code",
   "execution_count": 3,
   "id": "8ea90d40-a117-4ef8-86b4-9936c607ab87",
   "metadata": {},
   "outputs": [],
   "source": [
    "import pandas as pd\n",
    "from urllib.request import urlopen\n",
    "import xml.etree.ElementTree as ET  "
   ]
  },
  {
   "cell_type": "code",
   "execution_count": 5,
   "id": "e88ddbad-b42b-498f-a261-bf9442c9cf70",
   "metadata": {},
   "outputs": [],
   "source": [
    "urls_data = pd.read_csv('./law_links.csv')"
   ]
  },
  {
   "cell_type": "code",
   "execution_count": null,
   "id": "98e3e230-260c-4ea7-a3a7-064c7987b9db",
   "metadata": {},
   "outputs": [],
   "source": [
    "link_front = \"https://www.law.go.kr\"\n",
    "\n",
    "decrees_list = []\n",
    "for index_num in range(0,len(urls_data['법령상세링크'])):\n",
    "    url = link_front+urls_data['법령상세링크'][index_num]\n",
    "    #get xml\n",
    "    response = urlopen(url).read()\n",
    "    xtree = ET.fromstring(response)\n",
    "    decrees_count = len(xtree.find('조문'))\n",
    "    #조문번호, 조문내용 가져오기\n",
    "    for j in range(0, decrees_count):\n",
    "        decrees_info_list =[]\n",
    "        decress_tree =  xtree.find('조문')[j]\n",
    "        decress_tree_str = ET.tostring(decress_tree, encoding='unicode') \n",
    "        if \"조(\" not in decress_tree_str:\n",
    "            continue                \n",
    "        else:\n",
    "            decrees_num = xtree.find('조문')[j].find('조문번호').text\n",
    "            decrees_contents= xtree.find('조문')[j].find('조문내용').text\n",
    "            \n",
    "            #항, 호 추출\n",
    "            for object in decress_tree.iter(\"항\"):\n",
    "                for i in range(0, len(object)):                   \n",
    "                    xml_str = ET.tostring(object[i], encoding='unicode')                    \n",
    "                    if \"<항내용>\" in xml_str:\n",
    "                        hang_content = object.find(\"항내용\").text\n",
    "                        decrees_contents = decrees_contents+ hang_content\n",
    "                    elif \"<호>\" in xml_str:\n",
    "                        #호를 인식해도 해당 내용을 못가져오는 경우가 있음.. \n",
    "                        # print(object.find(\"호\").find(\"호내용\").text)\n",
    "                        xml_str_split = xml_str.split(\"<호내용>\")\n",
    "                        xml_str_replace1=xml_str_split[1].replace(\"</호>\",\"\").strip()\n",
    "                        xml_str_replace2=xml_str_replace1.replace(\"</호내용>\",\"\")\n",
    "                        if \"<목>\" in xml_str_replace2:\n",
    "                            m_split = xml_str_replace2.split(\"<목>\")\n",
    "                            xml_str_replace2 = m_split[0].strip()\n",
    "                            for k in range(0, len(m_split)):                    \n",
    "                                if \"<목내용>\" in m_split[k]:\n",
    "                                    mc_split = m_split[k].split(\"<목내용>\")\n",
    "                                    mc_str= mc_split[1].replace(\"</목내용>\",\"\").strip()\n",
    "                                    mc_str = mc_str.replace(\"</목>\",\"\")\n",
    "                                    #print(mc_str)\n",
    "                                    xml_str_replace2 = xml_str_replace2+\" \"+ mc_str\n",
    "                        \n",
    "                        if (\"&lt;\" in xml_str_replace2) or (\"&gt;\" in xml_str_replace2):\n",
    "                            xml_str_replace2=xml_str_replace2.replace(\"&lt;\",\"<\")\n",
    "                            xml_str_replace2=xml_str_replace2.replace(\"&gt;\",\">\")\n",
    "                        decrees_contents = decrees_contents+xml_str_replace2                          \n",
    "            \n",
    "            decrees_info_list.append(urls_data['법령명'][index_num])\n",
    "            decrees_info_list.append(urls_data['법령MST'][index_num])\n",
    "            decrees_info_list.append(urls_data['법령ID'][index_num])\n",
    "            decrees_info_list.append(urls_data['시행일자'][index_num])\n",
    "            decrees_info_list.append(urls_data['공포번호'][index_num])\n",
    "            decrees_info_list.append(urls_data['법령구분명'][index_num])\n",
    "            decrees_info_list.append(decrees_num)\n",
    "            decrees_info_list.append(decrees_contents)\n",
    "            decrees_list.append(decrees_info_list)\n",
    "        \n",
    "        \n"
   ]
  },
  {
   "cell_type": "code",
   "execution_count": null,
   "id": "e197716d-c153-45f5-9744-e78d98c0c295",
   "metadata": {},
   "outputs": [],
   "source": [
    "columns = ['법령명', '법령MST', '법령ID', '시행일자', '공포번호', '법령구분명', '조문번호', '조문내용']\n",
    "law_df = pd.DataFrame(decrees_list, columns = columns)\n",
    "law_df.head()"
   ]
  },
  {
   "cell_type": "code",
   "execution_count": null,
   "id": "219ae82b-ac46-4009-a541-028bf61baace",
   "metadata": {},
   "outputs": [],
   "source": [
    "#csv로 저장\n",
    "law_df.to_csv('./law_data.csv', index=False, encoding='utf-8_*_' )"
   ]
  }
 ],
 "metadata": {
  "kernelspec": {
   "display_name": "Python 3 (ipykernel)",
   "language": "python",
   "name": "python3"
  },
  "language_info": {
   "codemirror_mode": {
    "name": "ipython",
    "version": 3
   },
   "file_extension": ".py",
   "mimetype": "text/x-python",
   "name": "python",
   "nbconvert_exporter": "python",
   "pygments_lexer": "ipython3",
   "version": "3.8.12"
  }
 },
 "nbformat": 4,
 "nbformat_minor": 5
}
